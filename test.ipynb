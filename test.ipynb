{
 "cells": [
  {
   "cell_type": "code",
   "execution_count": 1,
   "metadata": {},
   "outputs": [],
   "source": [
    "import requests\n",
    "import os\n",
    "from flask import Flask, request, render_template\n",
    "from dotenv import load_dotenv"
   ]
  },
  {
   "cell_type": "code",
   "execution_count": 2,
   "metadata": {},
   "outputs": [],
   "source": [
    "FHIR_SERVER_BASE_URL=\"http://pwebmedcit.services.brown.edu:9091/fhir\"\n",
    "\n",
    "load_dotenv()\n",
    "\n",
    "username = os.getenv(\"FHIR_USERNAME\")\n",
    "password = os.getenv(\"FHIR_PASSWORD\")"
   ]
  },
  {
   "cell_type": "code",
   "execution_count": null,
   "metadata": {},
   "outputs": [],
   "source": [
    "! pip3 install -r requirements.txt "
   ]
  },
  {
   "cell_type": "code",
   "execution_count": 4,
   "metadata": {},
   "outputs": [],
   "source": [
    "s = requests.Session()"
   ]
  },
  {
   "cell_type": "code",
   "execution_count": 6,
   "metadata": {},
   "outputs": [],
   "source": [
    "def request_patient(patient_id, credentials):\n",
    "\n",
    "    req = requests.get(FHIR_SERVER_BASE_URL + \"/Patient/\" + str(patient_id), auth = credentials)\n",
    "\n",
    "    print(f\"Requests status: {req.status_code}\")\n",
    "\n",
    "    response = req.json()\n",
    "    print(response.keys())\n",
    "\n",
    "    return response"
   ]
  },
  {
   "cell_type": "code",
   "execution_count": 7,
   "metadata": {},
   "outputs": [
    {
     "name": "stdout",
     "output_type": "stream",
     "text": [
      "Requests status: 200\n",
      "dict_keys(['resourceType', 'id', 'meta', 'text', 'extension', 'identifier', 'active', 'name', 'gender', 'birthDate'])\n",
      "Requests status: 200\n",
      "dict_keys(['resourceType', 'id', 'meta', 'text', 'extension', 'identifier', 'active', 'name', 'gender', 'birthDate'])\n",
      "2\n"
     ]
    }
   ],
   "source": [
    "medication_id =141962\n",
    "\n",
    "credentials = (username, password)\n",
    "\n",
    "req = s.get(\"http://pwebmedcit.services.brown.edu:9091/fhir\" + f\"/MedicationStatement?code={medication_id}\", auth=credentials)\n",
    "\n",
    "\n",
    "if req.status_code == 200:\n",
    "    medications = req.json()['entry']\n",
    "    patient_ids = [entry['resource']['subject']['reference'].split('/')[-1] for entry in medications]\n",
    "    patients = [request_patient(patient_id, credentials) for patient_id in patient_ids]\n",
    "    # Convert patient details into set of tuples to ensure uniqueness\n",
    "    unique_patients = set((patient['id'], patient['name'][0]['given'][0], patient['name'][0]['family'], patient['gender'], patient['birthDate']) for patient in patients)\n",
    "\n",
    "    total_patients = len(unique_patients)\n",
    "    print(total_patients)\n",
    "\n",
    "else:\n",
    "    print(\"None\")"
   ]
  },
  {
   "cell_type": "code",
   "execution_count": 14,
   "metadata": {},
   "outputs": [
    {
     "data": {
      "text/plain": [
       "{'resourceType': 'OperationOutcome',\n",
       " 'text': {'status': 'generated',\n",
       "  'div': '<div xmlns=\"http://www.w3.org/1999/xhtml\"><h1>Operation Outcome</h1><table border=\"0\"><tr><td style=\"font-weight: bold;\">ERROR</td><td>[]</td><td>HAPI-0302: Unknown resource type \\'TestScript\\' - Server knows how to handle: [AllergyIntolerance, ConceptMap, Condition, Device, DeviceUseStatement, DocumentReference, Encounter, Immunization, Medication, MedicationRequest, MedicationStatement, Observation, Organization, Patient, Practitioner, Procedure, Specimen]</td></tr></table></div>'},\n",
       " 'issue': [{'severity': 'error',\n",
       "   'code': 'processing',\n",
       "   'diagnostics': \"HAPI-0302: Unknown resource type 'TestScript' - Server knows how to handle: [AllergyIntolerance, ConceptMap, Condition, Device, DeviceUseStatement, DocumentReference, Encounter, Immunization, Medication, MedicationRequest, MedicationStatement, Observation, Organization, Patient, Practitioner, Procedure, Specimen]\"}]}"
      ]
     },
     "execution_count": 14,
     "metadata": {},
     "output_type": "execute_result"
    }
   ],
   "source": [
    "patient_id = 1\n",
    "\n",
    "load_dotenv()\n",
    "\n",
    "username = os.getenv(\"FHIR_USERNAME\")\n",
    "password = os.getenv(\"FHIR_PASSWORD\")\n",
    "\n",
    "\n",
    "credentials = (username, password)\n",
    "\n",
    "condition = s.get(\"http://pwebmedcit.services.brown.edu:9091/fhir\" + f\"/TestScript?patient={patient_id}\", auth=credentials)\n",
    "condition\n",
    "condition_json = condition.json()\n",
    "condition_json"
   ]
  }
 ],
 "metadata": {
  "kernelspec": {
   "display_name": "venv",
   "language": "python",
   "name": "python3"
  },
  "language_info": {
   "codemirror_mode": {
    "name": "ipython",
    "version": 3
   },
   "file_extension": ".py",
   "mimetype": "text/x-python",
   "name": "python",
   "nbconvert_exporter": "python",
   "pygments_lexer": "ipython3",
   "version": "3.11.5"
  }
 },
 "nbformat": 4,
 "nbformat_minor": 2
}
